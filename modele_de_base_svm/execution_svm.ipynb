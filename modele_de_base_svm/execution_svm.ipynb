{
  "nbformat": 4,
  "nbformat_minor": 0,
  "metadata": {
    "colab": {
      "name": "SVM.ipynb",
      "provenance": [],
      "collapsed_sections": []
    },
    "kernelspec": {
      "name": "python3",
      "display_name": "Python 3",
      "language": "python"
    },
    "accelerator": "GPU"
  },
  "cells": [
    {
      "cell_type": "code",
      "metadata": {
        "id": "MMYEaejU1myN"
      },
      "source": [
        "import pandas as pd\n",
        "import os\n",
        "import argparse\n",
        "from torch.optim import AdamW\n",
        "\n",
        "from torch import nn\n",
        "import torch\n",
        "import numpy as np\n",
        "import logging\n",
        "import time\n",
        "\n",
        "from sklearn.feature_extraction.text import TfidfVectorizer\n",
        "from sklearn import svm\n",
        "from sklearn.metrics import classification_report"
      ],
      "execution_count": 1,
      "outputs": []
    },
    {
      "cell_type": "code",
      "metadata": {
        "id": "n8elIHgcMZKf"
      },
      "source": [
        "logging.basicConfig(format = '%(asctime)s - %(levelname)s - %(name)s -   %(message)s', \n",
        "                    datefmt = '%m/%d/%Y %H:%M:%S',\n",
        "                    level = logging.INFO)\n",
        "logger = logging.getLogger(__name__)\n",
        "\n",
        "device = torch.device(\"cuda\" if torch.cuda.is_available() else \"cpu\")"
      ],
      "execution_count": 2,
      "outputs": []
    },
    {
      "cell_type": "code",
      "metadata": {
        "id": "usdknhzkMgC8"
      },
      "source": [
        "word_to_idx = {\"None\" : 0, \"Positive\" : 1, \"Negative\" : 2}\n",
        "data_dir = \"data/\"\n",
        "data = pd.read_csv(os.path.join(data_dir, \"new_train_QA_M.csv\"))\n",
        "test_data = pd.read_csv(os.path.join(data_dir, \"new_test_QA_M.csv\"))\n",
        "\n",
        "test_data[\"label\"] = test_data.label.map(word_to_idx)\n",
        "data[\"label\"] = data.label.map(word_to_idx)\n"
      ],
      "execution_count": 3,
      "outputs": []
    },
    {
      "cell_type": "code",
      "metadata": {
        "id": "MHojbAkONIVw"
      },
      "source": [
        "# Create feature vectors\n",
        "vectorizer = TfidfVectorizer(min_df = 5,\n",
        "                             max_df = 0.8,\n",
        "                             sublinear_tf = True,\n",
        "                             use_idf = True)\n",
        "\n",
        "train_vectors = vectorizer.fit_transform(data['sentence1'])\n",
        "test_vectors = vectorizer.transform(test_data['sentence1'])"
      ],
      "execution_count": 4,
      "outputs": []
    },
    {
      "cell_type": "code",
      "metadata": {
        "id": "fvDeOnK6Nvgv",
        "colab": {
          "base_uri": "https://localhost:8080/"
        },
        "outputId": "d10f4b77-aba0-4d47-9604-ff7e5b840b89"
      },
      "source": [
        "train_vectors.shape"
      ],
      "execution_count": 5,
      "outputs": [
        {
          "output_type": "execute_result",
          "data": {
            "text/plain": [
              "(9144, 1947)"
            ]
          },
          "metadata": {},
          "execution_count": 5
        }
      ]
    },
    {
      "cell_type": "code",
      "metadata": {
        "id": "x96S16nyUzCo",
        "colab": {
          "base_uri": "https://localhost:8080/"
        },
        "outputId": "1ddaf6f3-38a9-4dff-d3e0-79f1d82bab69"
      },
      "source": [
        "test_vectors.shape"
      ],
      "execution_count": 6,
      "outputs": [
        {
          "output_type": "execute_result",
          "data": {
            "text/plain": [
              "(4652, 1947)"
            ]
          },
          "metadata": {},
          "execution_count": 6
        }
      ]
    },
    {
      "cell_type": "code",
      "metadata": {
        "id": "MIhsdtbnU1r3"
      },
      "source": [
        "# Perform classification with SVM, kernel=rbf\n",
        "classifier = svm.SVC(kernel='rbf',probability=True)\n",
        "t0 = time.time()\n",
        "classifier.fit(train_vectors, data['label'])\n",
        "t1 = time.time()\n",
        "prediction = classifier.predict(test_vectors)\n",
        "t2 = time.time()\n",
        "time_train = t1-t0\n",
        "time_predict = t2-t1\n",
        "# results\n",
        "print(\"Training time: %fs; Prediction time: %fs\" % (time_train, time_predict))\n",
        "report = classification_report(test_data['label'], prediction, output_dict=True)"
      ],
      "execution_count": 7,
      "outputs": [
        {
          "output_type": "stream",
          "name": "stdout",
          "text": [
            "Training time: 75.103540s; Prediction time: 5.280090s\n"
          ]
        }
      ]
    },
    {
      "cell_type": "code",
      "metadata": {
        "id": "TNTpjXy3YXqq",
        "colab": {
          "base_uri": "https://localhost:8080/"
        },
        "outputId": "aead7f69-4686-4ee9-8fdc-2967307b914d"
      },
      "source": [
        "print('none: ', report['0'])\n",
        "print('pos: ', report['1'])\n",
        "print('neg: ', report['2'])"
      ],
      "execution_count": 8,
      "outputs": [
        {
          "output_type": "stream",
          "name": "stdout",
          "text": [
            "none:  {'precision': 0.9108335753703166, 'recall': 0.9126891734575088, 'f1-score': 0.911760430295101, 'support': 3436}\npos:  {'precision': 0.6247357293868921, 'recall': 0.7296296296296296, 'f1-score': 0.6731207289293849, 'support': 810}\nneg:  {'precision': 0.7452471482889734, 'recall': 0.4827586206896552, 'f1-score': 0.5859491778774291, 'support': 406}\n"
          ]
        }
      ]
    },
    {
      "cell_type": "code",
      "metadata": {
        "id": "arlr43ZGdMRI"
      },
      "source": [
        "prob = classifier.predict_proba(test_vectors)\n",
        "pre = classifier.predict(test_vectors)"
      ],
      "execution_count": 9,
      "outputs": []
    },
    {
      "cell_type": "code",
      "metadata": {
        "id": "kUcdREbunSk2"
      },
      "source": [
        "with open(os.path.join('data/', \"svm.txt\"), \"w\") as f_test:\n",
        "  for output_i in range(len(prob)):\n",
        "    f_test.write(str(pre[output_i]))\n",
        "    for ou in prob[output_i]:\n",
        "      f_test.write(\" \"+str(ou))\n",
        "    f_test.write(\"\\n\")"
      ],
      "execution_count": 10,
      "outputs": []
    },
    {
      "cell_type": "code",
      "metadata": {
        "id": "nhWpe5z2u4t-",
        "colab": {
          "base_uri": "https://localhost:8080/"
        },
        "outputId": "64159b5e-3920-4a87-b39d-8a6eed92c7be"
      },
      "source": [
        "!python3 evaluation.py --pred_data_dir data/svm.txt"
      ],
      "execution_count": 13,
      "outputs": [
        {
          "output_type": "stream",
          "name": "stdout",
          "text": [
            "aspect_strict_Acc = 0.6208082545141874\naspect_Macro_F1 = 0.7456001831019412\naspect_Macro_AUC = 0.9098300310949083\nsentiment_Acc = 0.8231907894736842\nsentiment_Macro_AUC = 0.8645656099754613\n"
          ]
        }
      ]
    }
  ]
}