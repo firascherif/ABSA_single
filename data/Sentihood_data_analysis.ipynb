{
 "cells": [
  {
   "cell_type": "code",
   "execution_count": 1,
   "metadata": {},
   "outputs": [],
   "source": [
    "import json\n",
    "import operator\n",
    "import os\n",
    "import re\n",
    "import sys\n",
    "import pandas as pd"
   ]
  },
  {
   "cell_type": "code",
   "execution_count": 2,
   "metadata": {},
   "outputs": [],
   "source": [
    "data_dir='/Users/admin/Desktop/TABSA_SentClass/data/sentihood/bert-pair/'"
   ]
  },
  {
   "cell_type": "code",
   "execution_count": 3,
   "metadata": {},
   "outputs": [],
   "source": [
    "train = pd.read_csv(data_dir+\"train_QA_M.tsv\",sep='\\t')\n",
    "test  = pd.read_csv(data_dir+\"test_QA_M.tsv\",sep='\\t')"
   ]
  },
  {
   "cell_type": "code",
   "execution_count": 4,
   "metadata": {},
   "outputs": [
    {
     "output_type": "execute_result",
     "data": {
      "text/plain": [
       "None        12548\n",
       "Positive     1626\n",
       "Negative      834\n",
       "Name: label, dtype: int64"
      ]
     },
     "metadata": {},
     "execution_count": 4
    }
   ],
   "source": [
    "train['label'].value_counts()"
   ]
  },
  {
   "cell_type": "code",
   "execution_count": 5,
   "metadata": {},
   "outputs": [
    {
     "output_type": "execute_result",
     "data": {
      "text/plain": [
       "None        6300\n",
       "Positive     810\n",
       "Negative     406\n",
       "Name: label, dtype: int64"
      ]
     },
     "metadata": {},
     "execution_count": 5
    }
   ],
   "source": [
    "test['label'].value_counts()"
   ]
  },
  {
   "cell_type": "code",
   "execution_count": 6,
   "metadata": {},
   "outputs": [
    {
     "output_type": "stream",
     "name": "stdout",
     "text": [
      "location 1:  15132\nlocation 2:  5928\n"
     ]
    }
   ],
   "source": [
    "# nb location train\n",
    "train['location1'] = train['sentence1'].str.count(\"location - 1\", re.I) \n",
    "train['location2'] = train['sentence1'].str.count(\"location - 2\", re.I) \n",
    "#train.head()\n",
    "print('location 1: ', train['location1'].sum())\n",
    "print('location 2: ', train['location2'].sum())\n"
   ]
  },
  {
   "cell_type": "code",
   "execution_count": 7,
   "metadata": {},
   "outputs": [
    {
     "output_type": "stream",
     "name": "stdout",
     "text": [
      "location 1:  7612\nlocation 2:  2992\n"
     ]
    }
   ],
   "source": [
    "# nb location test\n",
    "test['location1'] = test['sentence1'].str.count(\"location - 1\", re.I) \n",
    "test['location2'] = test['sentence1'].str.count(\"location - 2\", re.I) \n",
    "#train.head()\n",
    "print('location 1: ', test['location1'].sum())\n",
    "print('location 2: ', test['location2'].sum())"
   ]
  },
  {
   "cell_type": "code",
   "execution_count": 8,
   "metadata": {},
   "outputs": [
    {
     "output_type": "execute_result",
     "data": {
      "text/plain": [
       "None        2039\n",
       "Positive     743\n",
       "Negative     195\n",
       "Name: label, dtype: int64"
      ]
     },
     "metadata": {},
     "execution_count": 8
    }
   ],
   "source": [
    "#Label train\n",
    "train = train.drop_duplicates(subset=['id'], keep='first')\n",
    "train['label'].value_counts()"
   ]
  },
  {
   "cell_type": "code",
   "execution_count": 9,
   "metadata": {},
   "outputs": [
    {
     "output_type": "execute_result",
     "data": {
      "text/plain": [
       "None        1019\n",
       "Positive     359\n",
       "Negative     113\n",
       "Name: label, dtype: int64"
      ]
     },
     "metadata": {},
     "execution_count": 9
    }
   ],
   "source": [
    "#Label train\n",
    "test = test.drop_duplicates(subset=['id'], keep='first')\n",
    "test['label'].value_counts()"
   ]
  },
  {
   "cell_type": "code",
   "execution_count": null,
   "metadata": {},
   "outputs": [],
   "source": []
  }
 ],
 "metadata": {
  "kernelspec": {
   "display_name": "Python 3",
   "language": "python",
   "name": "python3"
  },
  "language_info": {
   "codemirror_mode": {
    "name": "ipython",
    "version": 3
   },
   "file_extension": ".py",
   "mimetype": "text/x-python",
   "name": "python",
   "nbconvert_exporter": "python",
   "pygments_lexer": "ipython3",
   "version": "3.7.7-final"
  }
 },
 "nbformat": 4,
 "nbformat_minor": 4
}