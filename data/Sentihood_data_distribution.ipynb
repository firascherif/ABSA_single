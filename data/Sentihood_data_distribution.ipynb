{
 "cells": [
  {
   "cell_type": "code",
   "execution_count": null,
   "metadata": {
    "colab": {
     "base_uri": "https://localhost:8080/",
     "height": 129
    },
    "colab_type": "code",
    "executionInfo": {
     "elapsed": 21332,
     "status": "ok",
     "timestamp": 1594664394991,
     "user": {
      "displayName": "Helping Hand",
      "photoUrl": "",
      "userId": "16705135424764131129"
     },
     "user_tz": -330
    },
    "id": "4Zw_rEj3Zd6t",
    "outputId": "55524e10-e671-4b9f-dad5-f8e804298bd4"
   },
   "outputs": [
    {
     "name": "stdout",
     "output_type": "stream",
     "text": [
      "Go to this URL in a browser: https://accounts.google.com/o/oauth2/auth?client_id=947318989803-6bn6qk8qdgf4n4g3pfee6491hc0brc4i.apps.googleusercontent.com&redirect_uri=urn%3aietf%3awg%3aoauth%3a2.0%3aoob&response_type=code&scope=email%20https%3a%2f%2fwww.googleapis.com%2fauth%2fdocs.test%20https%3a%2f%2fwww.googleapis.com%2fauth%2fdrive%20https%3a%2f%2fwww.googleapis.com%2fauth%2fdrive.photos.readonly%20https%3a%2f%2fwww.googleapis.com%2fauth%2fpeopleapi.readonly\n",
      "\n",
      "Enter your authorization code:\n",
      "··········\n",
      "Mounted at /content/drive/\n"
     ]
    }
   ],
   "source": [
    "# from google.colab import drive\n",
    "# drive.mount('/content/drive/')"
   ]
  },
  {
   "cell_type": "code",
   "execution_count": null,
   "metadata": {
    "colab": {
     "base_uri": "https://localhost:8080/",
     "height": 35
    },
    "colab_type": "code",
    "executionInfo": {
     "elapsed": 3377,
     "status": "ok",
     "timestamp": 1594664394999,
     "user": {
      "displayName": "Helping Hand",
      "photoUrl": "",
      "userId": "16705135424764131129"
     },
     "user_tz": -330
    },
    "id": "mdOOz3tCZhKw",
    "outputId": "85096368-59e0-45b5-81d3-fdec96b0be8b"
   },
   "outputs": [
    {
     "name": "stdout",
     "output_type": "stream",
     "text": [
      "/content/drive/My Drive/ABSA-DistilBERT\n"
     ]
    }
   ],
   "source": [
    "# cd drive/My Drive/ABSA-DistilBERT"
   ]
  },
  {
   "cell_type": "code",
   "execution_count": 1,
   "metadata": {
    "colab": {},
    "colab_type": "code",
    "id": "AsrFX8-mZix0"
   },
   "outputs": [],
   "source": [
    "import pandas as pd\n",
    "import os\n",
    "word_to_idx = {\"None\" : 0, \"Positive\" : 1, \"Negative\" : 2}\n",
    "data_dir = \"data/sentihood/bert-pair/\"\n",
    "data = pd.read_csv(os.path.join(data_dir, \"train_QA_M.tsv\"), sep=\"\\t\")\n",
    "test_data = pd.read_csv(os.path.join(data_dir, \"test_QA_M.tsv\"), sep=\"\\t\")\n",
    "\n",
    "test_data[\"label\"] = test_data.label.map(word_to_idx)\n",
    "data[\"label\"] = data.label.map(word_to_idx)"
   ]
  },
  {
   "cell_type": "code",
   "execution_count": 2,
   "metadata": {
    "colab": {
     "base_uri": "https://localhost:8080/",
     "height": 206
    },
    "colab_type": "code",
    "executionInfo": {
     "elapsed": 1109,
     "status": "ok",
     "timestamp": 1594664454089,
     "user": {
      "displayName": "Helping Hand",
      "photoUrl": "",
      "userId": "16705135424764131129"
     },
     "user_tz": -330
    },
    "id": "XYDh8Tb8aAAd",
    "outputId": "59067530-0c0d-4b7b-f5a6-697fcfc3432e"
   },
   "outputs": [
    {
     "data": {
      "text/html": [
       "<div>\n",
       "<style scoped>\n",
       "    .dataframe tbody tr th:only-of-type {\n",
       "        vertical-align: middle;\n",
       "    }\n",
       "\n",
       "    .dataframe tbody tr th {\n",
       "        vertical-align: top;\n",
       "    }\n",
       "\n",
       "    .dataframe thead th {\n",
       "        text-align: right;\n",
       "    }\n",
       "</style>\n",
       "<table border=\"1\" class=\"dataframe\">\n",
       "  <thead>\n",
       "    <tr style=\"text-align: right;\">\n",
       "      <th></th>\n",
       "      <th>id</th>\n",
       "      <th>sentence1</th>\n",
       "      <th>label</th>\n",
       "      <th>positions</th>\n",
       "    </tr>\n",
       "  </thead>\n",
       "  <tbody>\n",
       "    <tr>\n",
       "      <th>0</th>\n",
       "      <td>0</td>\n",
       "      <td>LOCATION2 , LOCATION1 general</td>\n",
       "      <td>0</td>\n",
       "      <td>2 3</td>\n",
       "    </tr>\n",
       "    <tr>\n",
       "      <th>1</th>\n",
       "      <td>0</td>\n",
       "      <td>LOCATION2 , LOCATION1 price</td>\n",
       "      <td>0</td>\n",
       "      <td>2 3</td>\n",
       "    </tr>\n",
       "    <tr>\n",
       "      <th>2</th>\n",
       "      <td>0</td>\n",
       "      <td>LOCATION2 , LOCATION1 safety</td>\n",
       "      <td>0</td>\n",
       "      <td>2 3</td>\n",
       "    </tr>\n",
       "    <tr>\n",
       "      <th>3</th>\n",
       "      <td>0</td>\n",
       "      <td>LOCATION2 , LOCATION1 transit location</td>\n",
       "      <td>0</td>\n",
       "      <td>2 3 4</td>\n",
       "    </tr>\n",
       "    <tr>\n",
       "      <th>4</th>\n",
       "      <td>1000</td>\n",
       "      <td>LOCATION1 general is one of the most expensive...</td>\n",
       "      <td>0</td>\n",
       "      <td>0 1</td>\n",
       "    </tr>\n",
       "  </tbody>\n",
       "</table>\n",
       "</div>"
      ],
      "text/plain": [
       "     id                                          sentence1  label positions\n",
       "0     0                      LOCATION2 , LOCATION1 general      0      2 3 \n",
       "1     0                        LOCATION2 , LOCATION1 price      0      2 3 \n",
       "2     0                       LOCATION2 , LOCATION1 safety      0      2 3 \n",
       "3     0             LOCATION2 , LOCATION1 transit location      0    2 3 4 \n",
       "4  1000  LOCATION1 general is one of the most expensive...      0      0 1 "
      ]
     },
     "execution_count": 2,
     "metadata": {},
     "output_type": "execute_result"
    }
   ],
   "source": [
    "data.head()"
   ]
  },
  {
   "cell_type": "code",
   "execution_count": 3,
   "metadata": {
    "colab": {},
    "colab_type": "code",
    "id": "fYOjdrPFaCJw"
   },
   "outputs": [],
   "source": [
    "no_sentence1_train = 0\n",
    "no_sentence1_test = 0\n",
    "no_sentence2_train = 0\n",
    "no_sentence2_test = 0\n",
    "positions_train = data.positions\n",
    "positions_test = test_data.positions\n",
    "for i, row in enumerate(data.iterrows()):\n",
    "  pos = int(positions_train[i].split(' ')[0])\n",
    "  words = row[1].sentence1.split(' ')\n",
    "  if words[pos] == 'LOCATION1':\n",
    "    no_sentence1_train += 1\n",
    "  elif words[pos] == 'LOCATION2':\n",
    "    no_sentence2_train += 1\n",
    "\n",
    "for i, row in enumerate(test_data.iterrows()):\n",
    "  pos = int(positions_test[i].split(' ')[0])\n",
    "  words = row[1].sentence1.split(' ')\n",
    "  if words[pos] == 'LOCATION1':\n",
    "    no_sentence1_test += 1\n",
    "  elif words[pos] == 'LOCATION2':\n",
    "    no_sentence2_test += 1"
   ]
  },
  {
   "cell_type": "code",
   "execution_count": 4,
   "metadata": {
    "colab": {
     "base_uri": "https://localhost:8080/",
     "height": 90
    },
    "colab_type": "code",
    "executionInfo": {
     "elapsed": 1103,
     "status": "ok",
     "timestamp": 1594665097716,
     "user": {
      "displayName": "Helping Hand",
      "photoUrl": "",
      "userId": "16705135424764131129"
     },
     "user_tz": -330
    },
    "id": "K-IFbj7safs1",
    "outputId": "30d8b8fd-0d6d-4344-a07b-79feef6ec275"
   },
   "outputs": [
    {
     "name": "stdout",
     "output_type": "stream",
     "text": [
      "Number of SENTENCE1 in training  11712\n",
      "Number of SENTENCE2 in training  2948\n",
      "Number of SENTENCE1 in testing  5888\n",
      "Number of SENTENCE2 in testing  1488\n"
     ]
    }
   ],
   "source": [
    "print(\"Number of SENTENCE1 in training \", no_sentence1_train)\n",
    "print(\"Number of SENTENCE2 in training \", no_sentence2_train)\n",
    "print(\"Number of SENTENCE1 in testing \", no_sentence1_test)\n",
    "print(\"Number of SENTENCE2 in testing \", no_sentence2_test)"
   ]
  },
  {
   "cell_type": "code",
   "execution_count": 5,
   "metadata": {
    "colab": {},
    "colab_type": "code",
    "id": "Y3p60QyicU51"
   },
   "outputs": [],
   "source": [
    "sentences_with_2_locations_train = 0\n",
    "sentences_with_2_locations_test = 0\n",
    "for i, row in enumerate(data.iterrows()):\n",
    "  words = row[1].sentence1.split(' ')\n",
    "  found = 2\n",
    "  for word in words:\n",
    "    if word in 'LOCATION1':\n",
    "      found -= 1\n",
    "    elif word in 'LOCATION2':\n",
    "      found -= 1\n",
    "  if found == 0:\n",
    "    sentences_with_2_locations_train += 1\n",
    "\n",
    "for i, row in enumerate(test_data.iterrows()):\n",
    "  words = row[1].sentence1.split(' ')\n",
    "  found = 2\n",
    "  for word in words:\n",
    "    if word in 'LOCATION1':\n",
    "      found -= 1\n",
    "    elif word in 'LOCATION2':\n",
    "      found -= 1\n",
    "  if found == 0:\n",
    "    sentences_with_2_locations_test += 1"
   ]
  },
  {
   "cell_type": "code",
   "execution_count": 6,
   "metadata": {
    "colab": {
     "base_uri": "https://localhost:8080/",
     "height": 54
    },
    "colab_type": "code",
    "executionInfo": {
     "elapsed": 1281,
     "status": "ok",
     "timestamp": 1594665426524,
     "user": {
      "displayName": "Helping Hand",
      "photoUrl": "",
      "userId": "16705135424764131129"
     },
     "user_tz": -330
    },
    "id": "AB1utttldrBD",
    "outputId": "c78019f9-c420-4012-84c9-35b6d84b6785"
   },
   "outputs": [
    {
     "name": "stdout",
     "output_type": "stream",
     "text": [
      "No of sentences with 2 locations in training  6288\n",
      "No of sentences with 2 locations in testing  3280\n"
     ]
    }
   ],
   "source": [
    "print(\"No of sentences with 2 locations in training \", sentences_with_2_locations_train)\n",
    "print(\"No of sentences with 2 locations in testing \", sentences_with_2_locations_test)"
   ]
  },
  {
   "cell_type": "code",
   "execution_count": 7,
   "metadata": {
    "colab": {},
    "colab_type": "code",
    "id": "DAVfmBqtd1d4"
   },
   "outputs": [],
   "source": [
    "max_length_train = -1\n",
    "min_length_train = 100000\n",
    "max_length_test = -1\n",
    "min_length_test = 1000000\n",
    "for i, row in enumerate(data.iterrows()):\n",
    "  words = row[1].sentence1.split(' ')\n",
    "  if(len(words) > max_length_train):\n",
    "    max_length_train = len(words)\n",
    "  if(len(words) < min_length_train):\n",
    "    min_length_train = len(words)\n",
    "\n",
    "\n",
    "for i, row in enumerate(test_data.iterrows()):\n",
    "  words = row[1].sentence1.split(' ')\n",
    "  if(len(words) > max_length_test):\n",
    "    max_length_test = len(words)\n",
    "  if(len(words) < min_length_test):\n",
    "    min_length_test = len(words)"
   ]
  },
  {
   "cell_type": "code",
   "execution_count": 8,
   "metadata": {
    "colab": {
     "base_uri": "https://localhost:8080/",
     "height": 90
    },
    "colab_type": "code",
    "executionInfo": {
     "elapsed": 2206,
     "status": "ok",
     "timestamp": 1594666046975,
     "user": {
      "displayName": "Helping Hand",
      "photoUrl": "",
      "userId": "16705135424764131129"
     },
     "user_tz": -330
    },
    "id": "oh14PYdhf_zI",
    "outputId": "cfd6066b-43ab-49f3-ce68-c33204d6965d"
   },
   "outputs": [
    {
     "name": "stdout",
     "output_type": "stream",
     "text": [
      "Maximum length of a sentence in training  166\n",
      "Minimum length of a sentence in training  3\n",
      "Maximum length of a sentence in testing  92\n",
      "Minimum length of a sentence in testing  3\n"
     ]
    }
   ],
   "source": [
    "print(\"Maximum length of a sentence in training \", max_length_train)\n",
    "print(\"Minimum length of a sentence in training \", min_length_train)\n",
    "print(\"Maximum length of a sentence in testing \", max_length_test)\n",
    "print(\"Minimum length of a sentence in testing \", min_length_test)"
   ]
  },
  {
   "cell_type": "code",
   "execution_count": 9,
   "metadata": {
    "colab": {
     "base_uri": "https://localhost:8080/",
     "height": 109
    },
    "colab_type": "code",
    "executionInfo": {
     "elapsed": 1508,
     "status": "ok",
     "timestamp": 1594666259448,
     "user": {
      "displayName": "Helping Hand",
      "photoUrl": "",
      "userId": "16705135424764131129"
     },
     "user_tz": -330
    },
    "id": "8JT9epl2gM0N",
    "outputId": "0a550d53-e262-4d7c-f5b4-9be9fd437641"
   },
   "outputs": [
    {
     "data": {
      "text/plain": [
       "label\n",
       "0    12548\n",
       "1     1626\n",
       "2      834\n",
       "Name: id, dtype: int64"
      ]
     },
     "execution_count": 9,
     "metadata": {},
     "output_type": "execute_result"
    }
   ],
   "source": [
    "data.groupby('label').count().id"
   ]
  },
  {
   "cell_type": "code",
   "execution_count": 10,
   "metadata": {
    "colab": {
     "base_uri": "https://localhost:8080/",
     "height": 109
    },
    "colab_type": "code",
    "executionInfo": {
     "elapsed": 1196,
     "status": "ok",
     "timestamp": 1594666284908,
     "user": {
      "displayName": "Helping Hand",
      "photoUrl": "",
      "userId": "16705135424764131129"
     },
     "user_tz": -330
    },
    "id": "Zm1TKtsRgkvg",
    "outputId": "cbec2ea6-5f27-467d-bd38-c1c5d22aa7ca"
   },
   "outputs": [
    {
     "data": {
      "text/plain": [
       "label\n",
       "0    6300\n",
       "1     810\n",
       "2     406\n",
       "Name: id, dtype: int64"
      ]
     },
     "execution_count": 10,
     "metadata": {},
     "output_type": "execute_result"
    }
   ],
   "source": [
    "test_data.groupby('label').count().id"
   ]
  },
  {
   "cell_type": "markdown",
   "metadata": {
    "colab_type": "text",
    "id": "xmIrHjIDha4A"
   },
   "source": [
    "No you don't need position while training on bert"
   ]
  },
  {
   "cell_type": "code",
   "execution_count": null,
   "metadata": {
    "colab": {},
    "colab_type": "code",
    "id": "tOCqiMfchG4u"
   },
   "outputs": [],
   "source": []
  },
  {
   "cell_type": "code",
   "execution_count": null,
   "metadata": {},
   "outputs": [],
   "source": []
  }
 ],
 "metadata": {
  "colab": {
   "authorship_tag": "ABX9TyOCOV1pUlUNA8mdTZDBI345",
   "collapsed_sections": [],
   "name": "Data Distribution.ipynb",
   "provenance": []
  },
  "kernelspec": {
   "display_name": "Python 3",
   "language": "python",
   "name": "python3"
  },
  "language_info": {
   "codemirror_mode": {
    "name": "ipython",
    "version": 3
   },
   "file_extension": ".py",
   "mimetype": "text/x-python",
   "name": "python",
   "nbconvert_exporter": "python",
   "pygments_lexer": "ipython3",
   "version": "3.7.7"
  }
 },
 "nbformat": 4,
 "nbformat_minor": 1
}
